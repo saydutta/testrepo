{
 "cells": [
  {
   "cell_type": "code",
   "execution_count": 1,
   "metadata": {
    "colab": {},
    "colab_type": "code",
    "id": "8A5Jw5NR1iEI"
   },
   "outputs": [
    {
     "name": "stdout",
     "output_type": "stream",
     "text": [
      "<class 'int'> 8792387461648\n"
     ]
    }
   ],
   "source": [
    "#Declare an int value and store it in a variable. \n",
    "a=5\n",
    "\n",
    "\n",
    "#Check the type and print the id of the same.\n",
    "print(type(a), id(a))\n"
   ]
  },
  {
   "cell_type": "code",
   "execution_count": 97,
   "metadata": {
    "colab": {},
    "colab_type": "code",
    "id": "0YU8LFTn1rAX"
   },
   "outputs": [
    {
     "name": "stdout",
     "output_type": "stream",
     "text": [
      "True\n",
      "False\n"
     ]
    }
   ],
   "source": [
    "#Take one int value between 0 - 256.\n",
    "#Assign it to two different variables.\n",
    "#Check the id of both the variables. It should come same. Check why?\n",
    "\n",
    "b1=211\n",
    "c1=211\n",
    "print(b1 is c1)\n",
    "\n",
    "#Answer: this is because Python supports integer Interning. In case of integers in between 0-256, \n",
    "#         the python preloads(catches) the objects in the memory.\n",
    "\n",
    "\n",
    "\n",
    "#Take one int value either less than -5 or greater than 256.\n",
    "#Assign it to two different variables.\n",
    "#Check the id of both the variables. It should come different.Check why?\n",
    "b2=-6\n",
    "c2=-6\n",
    "print(b2 is c2)\n",
    "#Answer: this is because Python supports integer Interning in between 0-256,not beyond that limit.\n",
    "\n"
   ]
  },
  {
   "cell_type": "code",
   "execution_count": 25,
   "metadata": {
    "colab": {},
    "colab_type": "code",
    "id": "YzEIG0ZZ1tSK"
   },
   "outputs": [
    {
     "name": "stdout",
     "output_type": "stream",
     "text": [
      "sum: 14\n",
      "differce:  -2\n",
      "product  48\n",
      "dividing first num with second number  0.75\n",
      "remainder after dividing first number with second number : 6\n",
      "quotient after dividing first number with second number : 0\n",
      "first num to the power of second number : 1679616\n"
     ]
    }
   ],
   "source": [
    "#Arithmatic Operations on integers\n",
    "#Take two different intger values.\n",
    "#Store them in two different variables.\n",
    "#Do below operations on them:-\n",
    "    #Find sum of both numbers\n",
    "    #Find differce between them\n",
    "    #Find the product of both numbers.\n",
    "    #Find value after dividing first num with second number\n",
    "    #Find the remainder after dividing first number with second number\n",
    "    #Find the quotient after dividing first number with second number\n",
    "    #Find the result of first num to the power of second number.\n",
    "#sum of both numbers    \n",
    "a3=6\n",
    "b3=8\n",
    "c3=a3+b3\n",
    "print(\"sum:\",c3)\n",
    "#differce between them\n",
    "c3=a3-b3\n",
    "print(\"differce: \",c3)\n",
    "#product of both numbers\n",
    "c3=a3*b3\n",
    "print(\"product \",c3)\n",
    "#value after dividing first num with second number\n",
    "c3=a3/b3\n",
    "print(\"dividing first num with second number \",c3)\n",
    "#The remainder after dividing first number with second number\n",
    "c3=a3%b3\n",
    "print(\"remainder after dividing first number with second number :\",c3)\n",
    "#The quotient after dividing first number with second number\n",
    "c3=a3//b3\n",
    "print(\"quotient after dividing first number with second number :\",c3)\n",
    "#the result of first num to the power of second number.\n",
    "c3=a3**b3\n",
    "print(\"first num to the power of second number :\",c3)"
   ]
  },
  {
   "cell_type": "code",
   "execution_count": 32,
   "metadata": {
    "colab": {},
    "colab_type": "code",
    "id": "GGM7CdzA1wGn"
   },
   "outputs": [
    {
     "name": "stdout",
     "output_type": "stream",
     "text": [
      "a4>b4 : True\n",
      "a4<b4 : False\n",
      "a4>=b4 : True\n",
      "a4<=b4 : False\n"
     ]
    }
   ],
   "source": [
    "#Comparison Operators on integers\n",
    "#Take two different intger values.\n",
    "#Store them in two different variables.\n",
    "#Do below operations on them:-\n",
    "    #Compare se two numbers with below operator:-\n",
    "        #Greater than, '>'\n",
    "        #Smaller than, '<'\n",
    "        #Greater than or equal to, '>='\n",
    "        #Less than or equal to, '<='\n",
    "#Observe their output(return type should be boolean)\n",
    "\n",
    "a4=90\n",
    "b4=89\n",
    "print(\"a4>b4 :\",a4>b4)\n",
    "print(\"a4<b4 :\",a4<b4)\n",
    "print(\"a4>=b4 :\",a4>=b4)\n",
    "print(\"a4<=b4 :\",a4<=b4)"
   ]
  },
  {
   "cell_type": "code",
   "execution_count": 2,
   "metadata": {
    "colab": {},
    "colab_type": "code",
    "id": "9x904sUE1y9t"
   },
   "outputs": [
    {
     "name": "stdout",
     "output_type": "stream",
     "text": [
      "a5==b5 : False\n",
      "a5!=b5 : True\n"
     ]
    }
   ],
   "source": [
    "#Equality Operator\n",
    "#Take two different intger values.\n",
    "#Store them in two different variables.\n",
    "#Equuate them using equality operator (==, !=)\n",
    "#Observe the output(return type should be boolean)\n",
    "\n",
    "a5=20\n",
    "b5=30\n",
    "print(\"a5==b5 :\",a5==b5)\n",
    "print(\"a5!=b5 :\",a5!=b5)"
   ]
  },
  {
   "cell_type": "code",
   "execution_count": 100,
   "metadata": {
    "colab": {},
    "colab_type": "code",
    "id": "JmQFHUwc11S-"
   },
   "outputs": [
    {
     "name": "stdout",
     "output_type": "stream",
     "text": [
      "20\n",
      "0\n",
      "0\n",
      "0\n",
      "10\n",
      "20\n",
      "20\n",
      "0\n",
      "False\n",
      "True\n",
      "True\n",
      "True\n",
      "False\n",
      "True\n",
      "False\n",
      "False\n",
      "False\n",
      "True\n",
      "True\n",
      "True\n",
      "False\n"
     ]
    }
   ],
   "source": [
    "#Logical operators\n",
    "#Observe the output of below code\n",
    "#Cross check the output manually\n",
    "\n",
    "print(10 and 20)       #----------------------------------------->Output is 20\n",
    "print(0 and 20)        #----------------------------------------->Output is 0\n",
    "print(20 and 0)        #----------------------------------------->Output is 0\n",
    "print(0 and 0)         #----------------------------------------->Output is 0\n",
    "\n",
    "print(10 or 20)        #----------------------------------------->Output is 10\n",
    "print(0 or 20)         #----------------------------------------->Output is 20\n",
    "print(20 or 0)         #----------------------------------------->Output is 20\n",
    "print(0 or 0)          #----------------------------------------->Output is 0\n",
    "\n",
    "print(not 10)          #----------------------------------------->Output is False\n",
    "print(not 0)           #----------------------------------------->Output is True\n",
    "\n",
    "#Observe all the results.\n",
    "print (bool(10))\n",
    "print (bool(20))\n",
    "print (bool(0))\n",
    "\n",
    "print (True and True)\n",
    "print (False and True)\n",
    "print (True and False)\n",
    "print (False and False)\n",
    "\n",
    "print (True or True)\n",
    "print (False or True)\n",
    "print (True or False)\n",
    "print (False or False)\n",
    "\n",
    "print(not True)            \n",
    "print(not False)"
   ]
  },
  {
   "cell_type": "code",
   "execution_count": 81,
   "metadata": {
    "colab": {},
    "colab_type": "code",
    "id": "-0tvoulX14Hi"
   },
   "outputs": [
    {
     "name": "stdout",
     "output_type": "stream",
     "text": [
      "Bitwise AND: 0\n",
      "0b1010\n",
      "0b10100\n",
      "0\n",
      "Bitwise OR: 30\n",
      "0b1010\n",
      "0b10100\n",
      "30\n",
      "Bitwise ^: 30\n",
      "0b1010\n",
      "0b10100\n",
      "30\n",
      "-11\n",
      "Bitwise left shift : 40\n",
      "Checkig manually:  40\n",
      "Bitwise left shift : 2\n",
      "Checkig manually:  2\n"
     ]
    }
   ],
   "source": [
    "#Bitwise Operators\n",
    "#Do below operations on the values provided below:-\n",
    "    #Bitwise and(&) -----------------------------------------> 10, 20   -------> Output is 0\n",
    "    #Bitwise or(|)  -----------------------------------------> 10, 20   -------> Output is 30\n",
    "    #Bitwise(^)     -----------------------------------------> 10, 20   -------> Output is 30\n",
    "    #Bitwise negation(~) ------------------------------------> 10       -------> Output is -11\n",
    "    #Bitwise left shift  ------------------------------------> 10,2     -------> Output is 40\n",
    "    #Bitwise right shift ------------------------------------> 10,2     -------> Output is 2\n",
    "#Cross check the output manually\n",
    "#Bitwise AND\n",
    "print(\"Bitwise AND:\",10 & 20)\n",
    "print(bin(10))#--->01010\n",
    "print(bin(20))#--->10100\n",
    "#-------------------------\n",
    "                #  00000\n",
    "#-------------------------\n",
    "print((0b0000))\n",
    "\n",
    "\n",
    "#Bitwise OR\n",
    "print(\"Bitwise OR:\",10 | 20)\n",
    "print(bin(10))#--->01010\n",
    "print(bin(20))#--->10100\n",
    "#-------------------------\n",
    "                #  11110\n",
    "#-------------------------\n",
    "print((0b11110))\n",
    "\n",
    "#Bitwise OR\n",
    "print(\"Bitwise ^:\",10 ^ 20)\n",
    "print(bin(10))#--->01010\n",
    "print(bin(20))#--->10100\n",
    "#-------------------------\n",
    "                #  11110\n",
    "#-------------------------\n",
    "print((0b11110))\n",
    "\n",
    "\n",
    "#Bitwise negation(~)\n",
    "print(~(10))\n",
    "#~10=-(10+1)\n",
    "\n",
    "##Bitwise left shift\n",
    "print(\"Bitwise left shift :\",10<<2)\n",
    "#before shift:01010\n",
    "#after shift:101000\n",
    "print(\"Checkig manually: \",0b101000)\n",
    "\n",
    "##Bitwise Right shift\n",
    "print(\"Bitwise left shift :\",10>>2)\n",
    "#before shift:01010\n",
    "#after shift:10\n",
    "print(\"Checkig manually: \",0b10)"
   ]
  },
  {
   "cell_type": "code",
   "execution_count": 59,
   "metadata": {
    "colab": {},
    "colab_type": "code",
    "id": "YCcx-Qx016hg"
   },
   "outputs": [
    {
     "name": "stdout",
     "output_type": "stream",
     "text": [
      "True\n",
      "False\n",
      "False\n",
      "True\n"
     ]
    }
   ],
   "source": [
    "#What is the output of expression inside print statement. Cross check before running the program.\n",
    "a = 10\n",
    "b = 10\n",
    "print(a is b) #True or False?\n",
    "#Answer: True\n",
    "print(a is not b)      #True or False?\n",
    "#Answer: False\n",
    "\n",
    "a = 1000\n",
    "b = 1000\n",
    "print(a is b) #True or False?\n",
    "#Answer: False\n",
    "print(a is not b) #True or False?\n",
    "#Answer: True"
   ]
  },
  {
   "cell_type": "code",
   "execution_count": 96,
   "metadata": {
    "colab": {},
    "colab_type": "code",
    "id": "Un2To3XN1_Il"
   },
   "outputs": [
    {
     "name": "stdout",
     "output_type": "stream",
     "text": [
      "20\n"
     ]
    }
   ],
   "source": [
    "#What is the output of expression inside print statement. Cross check before running the program.\n",
    "print(10+(10*32)//2**5&20+(~(-10))<<2)\n",
    "#(10+320//2**5&20+9<<2)\n",
    "#(10+10&29<<2)\n",
    "#(20&29<<2)\n",
    "#(20&116)"
   ]
  },
  {
   "cell_type": "code",
   "execution_count": 60,
   "metadata": {
    "colab": {},
    "colab_type": "code",
    "id": "kGRb5RMd1_1I"
   },
   "outputs": [
    {
     "name": "stdout",
     "output_type": "stream",
     "text": [
      "True\n",
      "True\n",
      "True\n",
      "True\n",
      "True\n",
      "True\n"
     ]
    }
   ],
   "source": [
    "#Membership operation\n",
    "#in, not in are two membership operators and it returns boolean value\n",
    "\n",
    "print('2' in 'Python2.7.8')\n",
    "#True\n",
    "print(10 in [10,10.20,10+20j,'Python'])\n",
    "#True\n",
    "print(10 in (10,10.20,10+20j,'Python'))\n",
    "print(2 in {1,2,3})\n",
    "#True\n",
    "print(3 in {1:100, 2:200, 3:300})\n",
    "#True\n",
    "print(10 in range(20))\n",
    "#True"
   ]
  },
  {
   "cell_type": "code",
   "execution_count": 72,
   "metadata": {
    "colab": {},
    "colab_type": "code",
    "id": "Es7iSvL92B9W"
   },
   "outputs": [
    {
     "name": "stdout",
     "output_type": "stream",
     "text": [
      "0b1011100\n",
      "0o7436\n",
      "0xfa\n",
      "9876 to its binary : 0b10011010010100\n",
      "9876 to its octal : 0o23224\n",
      "9876 to its hexadecimal : 0x2694\n"
     ]
    }
   ],
   "source": [
    "#An integer can be represented in binary, octal or hexadecimal form.\n",
    "#Declare one binary, one octal and one hexadecimal value and store them in three different variables.\n",
    "#Convert 9876 to its binary, octal and hexadecimal equivalent and print their corresponding value.\n",
    "vbin=bin(0b1011100)\n",
    "print(vbin)\n",
    "voct=oct(0o7436)\n",
    "print(voct)\n",
    "vhex=hex(0xfa)\n",
    "print(vhex)\n",
    "\n",
    "\n",
    "print(\"9876 to its binary :\",bin(9876))\n",
    "print(\"9876 to its octal :\",oct(9876))\n",
    "print(\"9876 to its hexadecimal :\",hex(9876))"
   ]
  },
  {
   "cell_type": "code",
   "execution_count": 61,
   "metadata": {
    "colab": {},
    "colab_type": "code",
    "id": "Hm0r03lH2E0i"
   },
   "outputs": [
    {
     "name": "stdout",
     "output_type": "stream",
     "text": [
      "80\n",
      "3870\n",
      "64222\n",
      "0b1010000\n",
      "0o7436\n",
      "0xfade\n",
      "0b1010000\n",
      "0b1111101011011110\n",
      "0o175336\n",
      "0o7436\n",
      "0x50\n",
      "0xfade\n"
     ]
    }
   ],
   "source": [
    "#What will be the outut of following:-\n",
    "a = 0b1010000\n",
    "print(a)\n",
    "\n",
    "b = 0o7436\n",
    "print(b)\n",
    "\n",
    "c = 0xfade\n",
    "print(c)\n",
    "\n",
    "print(bin(80))\n",
    "\n",
    "print(oct(3870))\n",
    "\n",
    "print(hex(64222))\n",
    "\n",
    "print(bin(0b1010000))\n",
    "\n",
    "print(bin(0xfade))\n",
    "\n",
    "print(oct(0xfade))\n",
    "\n",
    "print(oct(0o7436))\n",
    "\n",
    "print(hex(0b1010000))\n",
    "\n",
    "print(hex(0xfade))"
   ]
  }
 ],
 "metadata": {
  "colab": {
   "name": "int_assignment.ipynb",
   "provenance": []
  },
  "kernelspec": {
   "display_name": "Python 3",
   "language": "python",
   "name": "python3"
  },
  "language_info": {
   "codemirror_mode": {
    "name": "ipython",
    "version": 3
   },
   "file_extension": ".py",
   "mimetype": "text/x-python",
   "name": "python",
   "nbconvert_exporter": "python",
   "pygments_lexer": "ipython3",
   "version": "3.7.6"
  }
 },
 "nbformat": 4,
 "nbformat_minor": 1
}
